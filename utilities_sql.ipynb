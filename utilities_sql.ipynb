{
    "metadata": {
        "kernelspec": {
            "name": "SQL",
            "display_name": "SQL",
            "language": "sql"
        },
        "language_info": {
            "name": "sql",
            "version": ""
        }
    },
    "nbformat_minor": 2,
    "nbformat": 4,
    "cells": [
        {
            "cell_type": "markdown",
            "source": [
                "**Generate random string**\r\n",
                ""
            ],
            "metadata": {
                "azdata_cell_guid": "fd02cfbe-9347-41f9-93f1-a40b3ca9ac14"
            }
        },
        {
            "cell_type": "markdown",
            "source": [
                "Create random string provided a len/ allow case sensitive or not  "
            ],
            "metadata": {
                "azdata_cell_guid": "e51cf995-9d65-4f25-a4e3-3fbc8fdcf6d7"
            }
        },
        {
            "cell_type": "code",
            "source": [
                "DECLARE @seed INT; \r\n",
                "DECLARE @allow_number BIT; \r\n",
                "DECLARE @upper_only BIT; \r\n",
                "DECLARE @real_random INT; \r\n",
                "DECLARE @len SMALLINT; -- len of the string \r\n",
                "DECLARE @value VARCHAR(20); --a max of 20 in length. If you need more, just increase this\r\n",
                "DECLARE @run SMALLINT; \r\n",
                "\r\n",
                "SET @len=20 \r\n",
                "--clear string \r\n",
                "SET @value='' \r\n",
                "SET @upper_only=0 \r\n",
                "SET @allow_number=1\r\n",
                "\r\n",
                "WHILE ( len(@value) < @len ) -- not yet there \r\n",
                "  BEGIN \r\n",
                "      SET @seed=( Abs(Cast(Cast(Newid() AS VARBINARY) AS INT)) ) \r\n",
                "      SET @real_random=Cast(Round(Rand(@seed), 10) * 1000000000 AS INT) \r\n",
                "      -- take a character or a number \r\n",
                "      IF( @allow_number = 1 AND @real_random % 35 > 25 ) -- a number \r\n",
                "        SET @value += Cast(( @real_random%35 ) - 26 AS VARCHAR(1)) \r\n",
                "      ELSE \r\n",
                "        BEGIN \r\n",
                "            IF ( @real_random%2 = 1 \r\n",
                "                 AND @upper_only = 0 ) \r\n",
                "              SET @value +=Lower(Char(65 + ( @real_random % 25 ))) \r\n",
                "            ELSE \r\n",
                "              SET @value += Char(65 + ( @real_random % 25 )) \r\n",
                "        END \r\n",
                "      --print ('Value at run'+cast(@run as varchar(2))+': '+@value) \r\n",
                "\r\n",
                "  END \r\n",
                "\r\n",
                "PRINT @value "
            ],
            "metadata": {
                "azdata_cell_guid": "34c740a9-6565-4419-b10b-ce31769fa825",
                "tags": []
            },
            "outputs": [
                {
                    "output_type": "display_data",
                    "data": {
                        "text/html": "UNwidN4cCt78F20Ug3Kv"
                    },
                    "metadata": {}
                },
                {
                    "output_type": "display_data",
                    "data": {
                        "text/html": "Total execution time: 00:00:00.440"
                    },
                    "metadata": {}
                }
            ],
            "execution_count": 1
        },
        {
            "cell_type": "markdown",
            "source": [
                "But we could not create a function with rand() or newid() in sql server. Should go around with the solution\r\n",
                "\r\n",
                "1. Create a view hold the random number\r\n",
                "2. Create a function and capture values from that view"
            ],
            "metadata": {
                "azdata_cell_guid": "51268423-c33a-4407-84a1-7d25faa9c385"
            }
        },
        {
            "cell_type": "code",
            "source": [
                "CREATE VIEW random_vals\r\n",
                "AS\r\n",
                "Select random_val\r\n",
                "from (values \r\n",
                "\t\t\t(Cast(Round(Rand(( Abs(Cast(Cast(CRYPT_GEN_RANDOM(2) AS VARBINARY) AS INT)) )), 10) * 1000000000 AS INT)),\r\n",
                "\t\t\t(Cast(Round(Rand(( Abs(Cast(Cast(Newid() AS VARBINARY) AS INT)) )), 10) * 1000000000 AS INT)),\r\n",
                "            (Cast(Round(Rand(( Abs(Cast(Cast(CRYPT_GEN_RANDOM(2) AS VARBINARY) AS INT)) )), 10) * 1000000000 AS INT)),\r\n",
                "\t\t\t(Cast(Round(Rand(( Abs(Cast(Cast(Newid() AS VARBINARY) AS INT)) )), 10) * 1000000000 AS INT)),\r\n",
                "            (Cast(Round(Rand(( Abs(Cast(Cast(CRYPT_GEN_RANDOM(2) AS VARBINARY) AS INT)) )), 10) * 1000000000 AS INT)),\r\n",
                "\t\t\t(Cast(Round(Rand(( Abs(Cast(Cast(Newid() AS VARBINARY) AS INT)) )), 10) * 1000000000 AS INT)),\r\n",
                "            (Cast(Round(Rand(( Abs(Cast(Cast(CRYPT_GEN_RANDOM(2) AS VARBINARY) AS INT)) )), 10) * 1000000000 AS INT)),\r\n",
                "\t\t\t(Cast(Round(Rand(( Abs(Cast(Cast(Newid() AS VARBINARY) AS INT)) )), 10) * 1000000000 AS INT)),\r\n",
                "            (Cast(Round(Rand(( Abs(Cast(Cast(CRYPT_GEN_RANDOM(2) AS VARBINARY) AS INT)) )), 10) * 1000000000 AS INT)),\r\n",
                "\t\t\t(Cast(Round(Rand(( Abs(Cast(Cast(Newid() AS VARBINARY) AS INT)) )), 10) * 1000000000 AS INT)),\r\n",
                "            (Cast(Round(Rand(( Abs(Cast(Cast(CRYPT_GEN_RANDOM(2) AS VARBINARY) AS INT)) )), 10) * 1000000000 AS INT)),\r\n",
                "\t\t\t(Cast(Round(Rand(( Abs(Cast(Cast(Newid() AS VARBINARY) AS INT)) )), 10) * 1000000000 AS INT)),\r\n",
                "            (Cast(Round(Rand(( Abs(Cast(Cast(CRYPT_GEN_RANDOM(2) AS VARBINARY) AS INT)) )), 10) * 1000000000 AS INT)),\r\n",
                "\t\t\t(Cast(Round(Rand(( Abs(Cast(Cast(Newid() AS VARBINARY) AS INT)) )), 10) * 1000000000 AS INT)),\r\n",
                "            (Cast(Round(Rand(( Abs(Cast(Cast(CRYPT_GEN_RANDOM(2) AS VARBINARY) AS INT)) )), 10) * 1000000000 AS INT)),\r\n",
                "\t\t\t(Cast(Round(Rand(( Abs(Cast(Cast(Newid() AS VARBINARY) AS INT)) )), 10) * 1000000000 AS INT)),\r\n",
                "            (Cast(Round(Rand(( Abs(Cast(Cast(CRYPT_GEN_RANDOM(2) AS VARBINARY) AS INT)) )), 10) * 1000000000 AS INT)),\r\n",
                "\t\t\t(Cast(Round(Rand(( Abs(Cast(Cast(Newid() AS VARBINARY) AS INT)) )), 10) * 1000000000 AS INT)),\r\n",
                "            (Cast(Round(Rand(( Abs(Cast(Cast(CRYPT_GEN_RANDOM(2) AS VARBINARY) AS INT)) )), 10) * 1000000000 AS INT)),\r\n",
                "\t\t\t(Cast(Round(Rand(( Abs(Cast(Cast(Newid() AS VARBINARY) AS INT)) )), 10) * 1000000000 AS INT))\r\n",
                "\t ) as random_values(random_val) \r\n",
                ""
            ],
            "metadata": {
                "azdata_cell_guid": "a2ced89e-7ff7-4f2b-a777-1e6f2337f732"
            },
            "outputs": [
                {
                    "output_type": "display_data",
                    "data": {
                        "text/html": "Commands completed successfully."
                    },
                    "metadata": {}
                },
                {
                    "output_type": "display_data",
                    "data": {
                        "text/html": "Total execution time: 00:00:00.265"
                    },
                    "metadata": {}
                }
            ],
            "execution_count": 3
        },
        {
            "cell_type": "code",
            "source": [
                "ALTER FUNCTION generate_random_string(@len SMALLINT,@allow_number BIT=1, @upper_only BIT=1)\r\n",
                "RETURNS VARCHAR(20)\r\n",
                "AS\r\n",
                "BEGIN\r\n",
                "--select top (len) row from the view, get the number and character from it,\r\n",
                "--string_agg will be the better choice but it works only with @@version>= 2017 :-( \r\n",
                "DECLARE @value VARCHAR(20); --a max of 20 in length. If you need more, just increase this\r\n",
                "SELECT @value=Substring(\r\n",
                "\t(SELECT random_char+''\r\n",
                "\t FROM (\r\n",
                "\t\tSELECT  random_val, \r\n",
                "\t\t\t\t--if we allow number and the value is a number, go get it\r\n",
                "\t\t\t\tCASE WHEN @allow_number=1 and random_val%35 >25 THEN cast((random_val%35)-26 AS VARCHAR(1))\r\n",
                "\t\t\t\t--if we allow all case, and a random vals said we should generate a lower case value, do it\r\n",
                "\t\t\t\tWHEN @upper_only=0 AND random_val%2 =1 THEN LOWER(CHAR(65 + (random_val % 25 ))) \r\n",
                "\t\t\t\t-- just keep it upper case\r\n",
                "\t\t\t\tELSE CHAR(65 +(random_val% 25 ))\r\n",
                "\t\t\t\tEND AS random_char\r\n",
                "\t\tFROM (\r\n",
                "\t\t\t\tSELECT ROW_NUMBER() OVER (ORDER BY random_val) rand_order, random_val \r\n",
                "\t\t\t\tFROM random_vals\r\n",
                "\t\t\t ) AS random_values\r\n",
                "\t\tWHERE rand_order < @len+2\r\n",
                ") AS val\r\n",
                "FOR XML PATH('')),2,@len);\r\n",
                "RETURN @value\r\n",
                "END\r\n",
                "\r\n",
                ""
            ],
            "metadata": {
                "azdata_cell_guid": "924b7810-72a0-4abf-8cee-52f663acdd23"
            },
            "outputs": [],
            "execution_count": null
        },
        {
            "cell_type": "code",
            "source": [
                "DECLARE @allow_number BIT; \r\n",
                "DECLARE @upper_only BIT; \r\n",
                "DECLARE @len SMALLINT; -- len of the string \r\n",
                "DECLARE @value VARCHAR(20); --a max of 20 in length. If you need more, just increase this\r\n",
                "\r\n",
                "\r\n",
                "SET @len=5\r\n",
                "--clear string \r\n",
                "SET @value='' \r\n",
                "SET @upper_only=1\r\n",
                "SET @allow_number=0\r\n",
                "\r\n",
                "PRINT 'Random string len '+cast(@len as varchar(2))+':    '+ DBO.generate_random_string(@LEN,@allow_number,@upper_only)"
            ],
            "metadata": {
                "azdata_cell_guid": "dfb8a440-97a4-466a-ac1c-8e79f5eaf138"
            },
            "outputs": [
                {
                    "output_type": "display_data",
                    "data": {
                        "text/html": "Random string len 5:    YNITP"
                    },
                    "metadata": {}
                },
                {
                    "output_type": "display_data",
                    "data": {
                        "text/html": "Total execution time: 00:00:00.228"
                    },
                    "metadata": {}
                }
            ],
            "execution_count": 46
        }
    ]
}